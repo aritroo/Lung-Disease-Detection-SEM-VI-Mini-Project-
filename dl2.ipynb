{
  "nbformat": 4,
  "nbformat_minor": 0,
  "metadata": {
    "colab": {
      "provenance": [],
      "authorship_tag": "ABX9TyMxYCJWzIXPvd33dVbUglxl",
      "include_colab_link": true
    },
    "kernelspec": {
      "name": "python3",
      "display_name": "Python 3"
    },
    "language_info": {
      "name": "python"
    }
  },
  "cells": [
    {
      "cell_type": "markdown",
      "metadata": {
        "id": "view-in-github",
        "colab_type": "text"
      },
      "source": [
        "<a href=\"https://colab.research.google.com/github/aritroo/Lung-Disease-Detection-SEM-VI-Mini-Project-/blob/master/dl2.ipynb\" target=\"_parent\"><img src=\"https://colab.research.google.com/assets/colab-badge.svg\" alt=\"Open In Colab\"/></a>"
      ]
    },
    {
      "cell_type": "code",
      "source": [
        "import numpy as np\n",
        "import matplotlib.pyplot as plt\n",
        "from keras.datasets import cifar10\n",
        "\n",
        "plt.rcParams['figure.figsize'] = (10.0,8.0)\n",
        "plt.rcParams['image.interpolation'] = 'nearest'\n",
        "plt.rcParams['image.cmap'] = 'gray'"
      ],
      "metadata": {
        "id": "tcs1ef1jDvWM"
      },
      "execution_count": null,
      "outputs": []
    },
    {
      "cell_type": "code",
      "source": [
        "(X_train,y_train),(X_test,y_test) = cifar10.load_data()"
      ],
      "metadata": {
        "colab": {
          "base_uri": "https://localhost:8080/"
        },
        "id": "9AatvnScD2bW",
        "outputId": "3f113af7-1f01-4c9f-f1f5-4c5b253ca625"
      },
      "execution_count": null,
      "outputs": [
        {
          "output_type": "stream",
          "name": "stdout",
          "text": [
            "Downloading data from https://www.cs.toronto.edu/~kriz/cifar-10-python.tar.gz\n",
            "170498071/170498071 [==============================] - 2s 0us/step\n"
          ]
        }
      ]
    },
    {
      "cell_type": "code",
      "source": [
        "print(\"Number of training images: \", len(X_train))\n",
        "print(\"Number of testing images : \", len(X_test))\n",
        "print(\"Size of each image  : \", len(X_train[0]),\"x\",len(X_train[0][0]),\"x\",len(X_train[0][0][0]))"
      ],
      "metadata": {
        "colab": {
          "base_uri": "https://localhost:8080/"
        },
        "id": "l_iv6hOeD_wj",
        "outputId": "5855f6e9-6d47-498e-a497-8272df1a73fb"
      },
      "execution_count": null,
      "outputs": [
        {
          "output_type": "stream",
          "name": "stdout",
          "text": [
            "Number of training images:  50000\n",
            "Number of testing images :  10000\n",
            "Size of each image  :  32 x 32 x 3\n"
          ]
        }
      ]
    },
    {
      "cell_type": "code",
      "source": [
        "X_train = np.reshape(X_train ,(X_train.shape[0],-1))\n",
        "X_test = np.reshape(X_test,(X_test.shape[0],-1))\n",
        "print(X_train.shape[0])"
      ],
      "metadata": {
        "colab": {
          "base_uri": "https://localhost:8080/"
        },
        "id": "UhIH5T7WD_tF",
        "outputId": "ecd2f66b-0532-4627-87a6-85ee930692d8"
      },
      "execution_count": null,
      "outputs": [
        {
          "output_type": "stream",
          "name": "stdout",
          "text": [
            "50000\n"
          ]
        }
      ]
    },
    {
      "cell_type": "code",
      "source": [
        "from sklearn.neighbors import KNeighborsClassifier\n",
        "from sklearn import metrics\n",
        "#Train Model and predict\n",
        "k = 4\n",
        "neigh = KNeighborsClassifier(n_neighbors = k).fit(X_train,y_train.ravel())\n"
      ],
      "metadata": {
        "id": "w7MKO0K3D_qk"
      },
      "execution_count": null,
      "outputs": []
    },
    {
      "cell_type": "code",
      "source": [
        "y_test_pred = neigh.predict(X_test)\n",
        "num_correct = np.sum(y_test_pred == y_test.ravel())\n",
        "accuracy = float(num_correct)/ len(X_test)\n",
        "print('Got %d / %d correct => accuracy : %f' %(num_correct,len(X_test),accuracy))"
      ],
      "metadata": {
        "colab": {
          "base_uri": "https://localhost:8080/"
        },
        "id": "2tmCf95ZD_n1",
        "outputId": "7ebb4a66-c529-4695-f1c6-88f6e02f7a61"
      },
      "execution_count": null,
      "outputs": [
        {
          "output_type": "stream",
          "name": "stdout",
          "text": [
            "Got 3398 / 10000 correct => accuracy : 0.339800\n"
          ]
        }
      ]
    },
    {
      "cell_type": "code",
      "source": [
        "from sklearn.metrics import confusion_matrix\n",
        "cm = confusion_matrix(y_test_pred,y_test.ravel())\n",
        "print(cm)"
      ],
      "metadata": {
        "colab": {
          "base_uri": "https://localhost:8080/"
        },
        "id": "Zq0siZOfD_kv",
        "outputId": "a2a13bb0-3c2c-47c6-8b01-8cedb7a278ea"
      },
      "execution_count": null,
      "outputs": [
        {
          "output_type": "stream",
          "name": "stdout",
          "text": [
            "[[563 165 125  92  90  81  31 112 168 191]\n",
            " [ 10 229   6   9   3   4   4  10  18  73]\n",
            " [106 119 453 235 270 225 290 187  49 121]\n",
            " [ 15  42  50 220  39 163  67  55  33  66]\n",
            " [ 50 135 211 167 462 159 283 259  51  96]\n",
            " [  5  31  35 107  22 221  32  48  16  21]\n",
            " [ 30  52  59 102  51  82 260  54  10  45]\n",
            " [  5   9   7  21  12  14   3 216   5  19]\n",
            " [210 199  51  41  50  47  28  55 643 237]\n",
            " [  6  19   3   6   1   4   2   4   7 131]]\n"
          ]
        }
      ]
    },
    {
      "cell_type": "code",
      "source": [
        "from sklearn.metrics import classification_report\n",
        "print(classification_report(y_test_pred,y_test.ravel()))\n",
        "\n",
        "\n"
      ],
      "metadata": {
        "colab": {
          "base_uri": "https://localhost:8080/"
        },
        "id": "NwjdmEdzD_Zx",
        "outputId": "16d3fe1f-fb30-4034-f428-e599c3083828"
      },
      "execution_count": null,
      "outputs": [
        {
          "output_type": "stream",
          "name": "stdout",
          "text": [
            "              precision    recall  f1-score   support\n",
            "\n",
            "           0       0.56      0.35      0.43      1618\n",
            "           1       0.23      0.63      0.34       366\n",
            "           2       0.45      0.22      0.30      2055\n",
            "           3       0.22      0.29      0.25       750\n",
            "           4       0.46      0.25      0.32      1873\n",
            "           5       0.22      0.41      0.29       538\n",
            "           6       0.26      0.35      0.30       745\n",
            "           7       0.22      0.69      0.33       311\n",
            "           8       0.64      0.41      0.50      1561\n",
            "           9       0.13      0.72      0.22       183\n",
            "\n",
            "    accuracy                           0.34     10000\n",
            "   macro avg       0.34      0.43      0.33     10000\n",
            "weighted avg       0.44      0.34      0.35     10000\n",
            "\n"
          ]
        }
      ]
    },
    {
      "cell_type": "code",
      "source": [],
      "metadata": {
        "id": "4y0nqKNiD_Od"
      },
      "execution_count": null,
      "outputs": []
    },
    {
      "cell_type": "code",
      "source": [],
      "metadata": {
        "id": "uCZ2U8vDD-9w"
      },
      "execution_count": null,
      "outputs": []
    },
    {
      "cell_type": "code",
      "source": [],
      "metadata": {
        "id": "3SHImpiCFDD8"
      },
      "execution_count": null,
      "outputs": []
    },
    {
      "cell_type": "code",
      "source": [],
      "metadata": {
        "id": "BTQMgAANFDAT"
      },
      "execution_count": null,
      "outputs": []
    },
    {
      "cell_type": "code",
      "source": [],
      "metadata": {
        "id": "L5vrL2tzFC-U"
      },
      "execution_count": null,
      "outputs": []
    },
    {
      "cell_type": "code",
      "source": [],
      "metadata": {
        "id": "YsVuP9AZFC7_"
      },
      "execution_count": null,
      "outputs": []
    },
    {
      "cell_type": "code",
      "source": [],
      "metadata": {
        "id": "jtTKON3YFC5p"
      },
      "execution_count": null,
      "outputs": []
    },
    {
      "cell_type": "code",
      "source": [],
      "metadata": {
        "id": "ucChnieVFC28"
      },
      "execution_count": null,
      "outputs": []
    },
    {
      "cell_type": "code",
      "source": [],
      "metadata": {
        "id": "2QssZ-P4FC0c"
      },
      "execution_count": null,
      "outputs": []
    }
  ]
}