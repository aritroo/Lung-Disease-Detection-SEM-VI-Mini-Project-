{
  "nbformat": 4,
  "nbformat_minor": 0,
  "metadata": {
    "colab": {
      "provenance": [],
      "authorship_tag": "ABX9TyNXSCAvsxjsIg37NTfEZ/P2",
      "include_colab_link": true
    },
    "kernelspec": {
      "name": "python3",
      "display_name": "Python 3"
    },
    "language_info": {
      "name": "python"
    }
  },
  "cells": [
    {
      "cell_type": "markdown",
      "metadata": {
        "id": "view-in-github",
        "colab_type": "text"
      },
      "source": [
        "<a href=\"https://colab.research.google.com/github/aritroo/Lung-Disease-Detection-SEM-VI-Mini-Project-/blob/master/dl3.ipynb\" target=\"_parent\"><img src=\"https://colab.research.google.com/assets/colab-badge.svg\" alt=\"Open In Colab\"/></a>"
      ]
    },
    {
      "cell_type": "code",
      "execution_count": null,
      "metadata": {
        "id": "D5VeIrzSJbuW"
      },
      "outputs": [],
      "source": [
        "import matplotlib.pyplot as plt\n",
        "import matplotlib.image as mpimg"
      ]
    },
    {
      "cell_type": "code",
      "source": [
        "from keras.models import Sequential\n",
        "from keras.preprocessing.image import ImageDataGenerator\n",
        "from keras.layers import BatchNormalization\n",
        "from keras.layers import Conv2D,MaxPooling2D,Dense,Flatten,Dropout\n",
        "from keras.datasets import cifar10\n",
        "from keras.utils import normalize,to_categorical"
      ],
      "metadata": {
        "id": "B3afAu2jJetI"
      },
      "execution_count": null,
      "outputs": []
    },
    {
      "cell_type": "code",
      "source": [
        "(X_train,y_train),(X_test,y_test)= cifar10.load_data()\n",
        "y_train = to_categorical(y_train)\n",
        "y_test = to_categorical(y_test)\n"
      ],
      "metadata": {
        "id": "umK0lC8BJepk"
      },
      "execution_count": null,
      "outputs": []
    },
    {
      "cell_type": "code",
      "source": [
        "train_datagen = ImageDataGenerator(rotation_range=45,width_shift_range=0.2,zoom_range=0.2,horizontal_flip=True)\n",
        "train_datagen.fit(X_train)\n",
        "train_generator = train_datagen.flow(X_train,y_train,batch_size=32)"
      ],
      "metadata": {
        "id": "KicyZX8hJem7"
      },
      "execution_count": null,
      "outputs": []
    },
    {
      "cell_type": "code",
      "source": [
        "activation = 'relu'\n",
        "model = Sequential()\n",
        "model.add(Conv2D(32,(3,3),activation=activation,padding='same',input_shape=(32,32,3)))\n",
        "model.add(BatchNormalization())"
      ],
      "metadata": {
        "id": "Ts6-_8trJeki"
      },
      "execution_count": null,
      "outputs": []
    },
    {
      "cell_type": "code",
      "source": [
        "model.add(Conv2D(32,(3,3),activation=activation,padding='same',kernel_initializer='he_uniform'))\n",
        "model.add(BatchNormalization())\n",
        "model.add(MaxPooling2D())\n",
        "model.add(Dropout(0.2))\n"
      ],
      "metadata": {
        "id": "muWiMUc8JeiK"
      },
      "execution_count": null,
      "outputs": []
    },
    {
      "cell_type": "code",
      "source": [
        "model.add(Conv2D(64,(3,3),activation=activation,padding='same',kernel_initializer='he_uniform'))\n",
        "model.add(BatchNormalization())"
      ],
      "metadata": {
        "id": "22z43GTDJefd"
      },
      "execution_count": null,
      "outputs": []
    },
    {
      "cell_type": "code",
      "source": [
        "model.add(Conv2D(64,(3,3),activation=activation,padding='same',kernel_initializer='he_uniform'))\n",
        "model.add(BatchNormalization())\n",
        "model.add(MaxPooling2D())\n",
        "model.add(Dropout(0.2))"
      ],
      "metadata": {
        "id": "KKtXOUXYJech"
      },
      "execution_count": null,
      "outputs": []
    },
    {
      "cell_type": "code",
      "source": [
        "model.add(Flatten())\n",
        "model.add(Dense(128,activation=activation,kernel_initializer='he_uniform'))\n",
        "model.add(Dense(10,activation='softmax'))"
      ],
      "metadata": {
        "id": "028d1S1JJeZ5"
      },
      "execution_count": null,
      "outputs": []
    },
    {
      "cell_type": "code",
      "source": [
        "model.compile(optimizer='rmsprop',loss='categorical_crossentropy',metrics=['accuracy'])\n",
        "print(model.summary())"
      ],
      "metadata": {
        "colab": {
          "base_uri": "https://localhost:8080/"
        },
        "id": "ETJFG2iSJeXO",
        "outputId": "4e5af9ce-b371-449f-de71-887e3b53c5ae"
      },
      "execution_count": null,
      "outputs": [
        {
          "output_type": "stream",
          "name": "stdout",
          "text": [
            "Model: \"sequential_1\"\n",
            "_________________________________________________________________\n",
            " Layer (type)                Output Shape              Param #   \n",
            "=================================================================\n",
            " conv2d_4 (Conv2D)           (None, 32, 32, 32)        896       \n",
            "                                                                 \n",
            " batch_normalization_4 (Batc  (None, 32, 32, 32)       128       \n",
            " hNormalization)                                                 \n",
            "                                                                 \n",
            " conv2d_5 (Conv2D)           (None, 32, 32, 32)        9248      \n",
            "                                                                 \n",
            " batch_normalization_5 (Batc  (None, 32, 32, 32)       128       \n",
            " hNormalization)                                                 \n",
            "                                                                 \n",
            " max_pooling2d_2 (MaxPooling  (None, 16, 16, 32)       0         \n",
            " 2D)                                                             \n",
            "                                                                 \n",
            " dropout_2 (Dropout)         (None, 16, 16, 32)        0         \n",
            "                                                                 \n",
            " conv2d_6 (Conv2D)           (None, 16, 16, 64)        18496     \n",
            "                                                                 \n",
            " batch_normalization_6 (Batc  (None, 16, 16, 64)       256       \n",
            " hNormalization)                                                 \n",
            "                                                                 \n",
            " conv2d_7 (Conv2D)           (None, 16, 16, 64)        36928     \n",
            "                                                                 \n",
            " batch_normalization_7 (Batc  (None, 16, 16, 64)       256       \n",
            " hNormalization)                                                 \n",
            "                                                                 \n",
            " max_pooling2d_3 (MaxPooling  (None, 8, 8, 64)         0         \n",
            " 2D)                                                             \n",
            "                                                                 \n",
            " dropout_3 (Dropout)         (None, 8, 8, 64)          0         \n",
            "                                                                 \n",
            " flatten (Flatten)           (None, 4096)              0         \n",
            "                                                                 \n",
            " dense (Dense)               (None, 128)               524416    \n",
            "                                                                 \n",
            " dense_1 (Dense)             (None, 10)                1290      \n",
            "                                                                 \n",
            "=================================================================\n",
            "Total params: 592,042\n",
            "Trainable params: 591,658\n",
            "Non-trainable params: 384\n",
            "_________________________________________________________________\n",
            "None\n"
          ]
        }
      ]
    },
    {
      "cell_type": "code",
      "source": [
        "history = model.fit_generator(train_generator,steps_per_epoch = 250,epochs=10,validation_data=(X_test,y_test))"
      ],
      "metadata": {
        "id": "_e1L7CbCJeRx",
        "colab": {
          "base_uri": "https://localhost:8080/"
        },
        "outputId": "1e93d71d-e042-41f9-8813-5608a40ab5af"
      },
      "execution_count": null,
      "outputs": [
        {
          "output_type": "stream",
          "name": "stdout",
          "text": [
            "Epoch 1/10\n"
          ]
        },
        {
          "output_type": "stream",
          "name": "stderr",
          "text": [
            "<ipython-input-24-48fe61350f0e>:1: UserWarning: `Model.fit_generator` is deprecated and will be removed in a future version. Please use `Model.fit`, which supports generators.\n",
            "  history = model.fit_generator(train_generator,steps_per_epoch = 250,epochs=10,validation_data=(X_test,y_test))\n"
          ]
        },
        {
          "output_type": "stream",
          "name": "stdout",
          "text": [
            "250/250 [==============================] - 119s 466ms/step - loss: 2.1780 - accuracy: 0.2635 - val_loss: 1.9054 - val_accuracy: 0.3015\n",
            "Epoch 2/10\n",
            "250/250 [==============================] - 85s 337ms/step - loss: 1.8313 - accuracy: 0.3412 - val_loss: 1.6470 - val_accuracy: 0.3936\n",
            "Epoch 3/10\n",
            "250/250 [==============================] - 80s 322ms/step - loss: 1.7082 - accuracy: 0.3819 - val_loss: 2.2067 - val_accuracy: 0.2754\n",
            "Epoch 4/10\n",
            "250/250 [==============================] - 84s 336ms/step - loss: 1.6233 - accuracy: 0.4141 - val_loss: 2.1359 - val_accuracy: 0.2974\n",
            "Epoch 5/10\n",
            "250/250 [==============================] - 85s 339ms/step - loss: 1.5535 - accuracy: 0.4375 - val_loss: 2.1946 - val_accuracy: 0.3328\n",
            "Epoch 6/10\n",
            "250/250 [==============================] - 84s 337ms/step - loss: 1.5493 - accuracy: 0.4420 - val_loss: 1.5795 - val_accuracy: 0.4551\n",
            "Epoch 7/10\n",
            "250/250 [==============================] - 84s 337ms/step - loss: 1.5084 - accuracy: 0.4524 - val_loss: 1.6950 - val_accuracy: 0.4138\n",
            "Epoch 8/10\n",
            "250/250 [==============================] - 84s 337ms/step - loss: 1.4801 - accuracy: 0.4661 - val_loss: 1.5800 - val_accuracy: 0.4565\n",
            "Epoch 9/10\n",
            "250/250 [==============================] - 84s 336ms/step - loss: 1.4347 - accuracy: 0.4827 - val_loss: 1.3983 - val_accuracy: 0.4987\n",
            "Epoch 10/10\n",
            "250/250 [==============================] - 79s 316ms/step - loss: 1.4245 - accuracy: 0.4959 - val_loss: 1.3738 - val_accuracy: 0.5211\n"
          ]
        }
      ]
    },
    {
      "cell_type": "code",
      "source": [
        "plt.plot(history.history['loss'],label='loss')\n",
        "plt.plot(history.history['val_loss'],label='val_loss')\n",
        "plt.xlabel('loss')\n",
        "plt.ylabel('val_loss')\n"
      ],
      "metadata": {
        "id": "F9n6LuHxJeOo",
        "colab": {
          "base_uri": "https://localhost:8080/",
          "height": 466
        },
        "outputId": "254c0bc0-2b09-4ee2-e198-6cba5ea49ce8"
      },
      "execution_count": null,
      "outputs": [
        {
          "output_type": "execute_result",
          "data": {
            "text/plain": [
              "Text(0, 0.5, 'val_loss')"
            ]
          },
          "metadata": {},
          "execution_count": 25
        },
        {
          "output_type": "display_data",
          "data": {
            "text/plain": [
              "<Figure size 640x480 with 1 Axes>"
            ],
            "image/png": "[encoded data removed]"
          },
          "metadata": {}
        }
      ]
    }
  ]
}